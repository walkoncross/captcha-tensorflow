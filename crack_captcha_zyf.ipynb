{
 "cells": [
  {
   "cell_type": "code",
   "execution_count": 1,
   "metadata": {},
   "outputs": [],
   "source": [
    "import tensorflow as tf\n",
    "\n",
    "import os\n",
    "import json\n",
    "import numpy as np\n",
    "from PIL import Image\n",
    "\n",
    "import os.path as osp"
   ]
  },
  {
   "cell_type": "code",
   "execution_count": 2,
   "metadata": {},
   "outputs": [
    {
     "data": {
      "text/plain": [
       "u'/workspace/mnt/group/face/zhaoyafei/captcha-tensorflow'"
      ]
     },
     "execution_count": 2,
     "metadata": {},
     "output_type": "execute_result"
    }
   ],
   "source": [
    "pwd"
   ]
  },
  {
   "cell_type": "code",
   "execution_count": 3,
   "metadata": {},
   "outputs": [
    {
     "name": "stdout",
     "output_type": "stream",
     "text": [
      "len(char_list):  62\n",
      "char_list:  0123456789abcdefghijklmnopqrstuvwxyzABCDEFGHIJKLMNOPQRSTUVWXYZ\n"
     ]
    }
   ],
   "source": [
    "digits_list = '0123456789'\n",
    "lower_case_list = 'abcdefghijklmnopqrstuvwxyz'\n",
    "upper_case_list = lower_case_list.upper()\n",
    "\n",
    "char_list = digits_list + lower_case_list + upper_case_list\n",
    "\n",
    "print 'len(char_list): ', len(char_list)\n",
    "print 'char_list: ', char_list"
   ]
  },
  {
   "cell_type": "code",
   "execution_count": 4,
   "metadata": {},
   "outputs": [
    {
     "name": "stdout",
     "output_type": "stream",
     "text": [
      "[0.8360188  0.11314284 0.05083836]\n"
     ]
    }
   ],
   "source": [
    "def read_image(filename, flatten=False, width=40, height=40):\n",
    "    im = Image.open(filename).convert('L').resize((width, height), Image.ANTIALIAS)\n",
    "\n",
    "    data = np.asarray(im)\n",
    "    if flatten:\n",
    "        return data.reshape(width * height)\n",
    "\n",
    "    return data\n",
    "\n",
    "def softmax(x):\n",
    "    \"\"\"Compute softmax values for each sets of scores in x.\"\"\"\n",
    "    e_x = np.exp(x - np.max(x))\n",
    "    return e_x / e_x.sum()\n",
    "\n",
    "scores = [3.0, 1.0, 0.2]\n",
    "print(softmax(scores))"
   ]
  },
  {
   "cell_type": "code",
   "execution_count": null,
   "metadata": {},
   "outputs": [
    {
     "name": "stdout",
     "output_type": "stream",
     "text": [
      "INFO:tensorflow:Restoring parameters from ./log/cnn1-run-20181105_023703/models-7-layers-zyf\n"
     ]
    }
   ],
   "source": [
    "model_dir = './log/cnn1-run-20181105_023703/'\n",
    "model_meta = model_dir + 'models-7-layers-zyf.meta'\n",
    "\n",
    "sess = tf.Session()\n",
    "saver = tf.train.import_meta_graph(model_meta)\n",
    "saver.restore(sess,tf.train.latest_checkpoint(model_dir))\n",
    "\n",
    "graph = tf.get_default_graph()"
   ]
  },
  {
   "cell_type": "code",
   "execution_count": 6,
   "metadata": {},
   "outputs": [],
   "source": [
    "input = graph.get_tensor_by_name('input/Placeholder:0')\n",
    "prob = graph.get_tensor_by_name('readout/MatMul:0')\n",
    "pred_cls = graph.get_tensor_by_name('forword-prop/ArgMax:0')"
   ]
  },
  {
   "cell_type": "code",
   "execution_count": 7,
   "metadata": {},
   "outputs": [
    {
     "name": "stdout",
     "output_type": "stream",
     "text": [
      "input batch shape:  (62, 40, 40)\n"
     ]
    }
   ],
   "source": [
    "im_root = 'images/char-1-epoch-2000-2/test/'\n",
    "im_paths = [\n",
    "            '0_00ade998-201b-483f-a5e5-8acebc0b6397.png',\n",
    "            '1_002f337a-4bed-49da-b990-449591dee68a.png',\n",
    "            '2_01257090-7e11-4774-96c8-356e8fbcd378.png',\n",
    "            '3_001e66f1-5836-46e8-8117-bad3e205d8b3.png',\n",
    "            '4_00c11f9c-52d3-416c-ada9-8a532b74ec88.png',\n",
    "            '5_002af014-de8f-4c07-b819-3bd41742af40.png',\n",
    "            '6_00147b57-e759-45ec-b98b-93a37e802472.png',\n",
    "            '7_006c8dd5-896f-45bb-856a-2ebe2dce58c4.png',\n",
    "            '8_002f1de0-8102-4291-9bfb-9b440acd9971.png',\n",
    "            '9_00d9f16c-3b3b-47e7-97ce-07e2ec48a97b.png',\n",
    "            'a_04dde5c6-5bc2-4374-a5fd-28c145a344ea.png',\n",
    "            'b_00071ee2-b636-40fe-ad77-1052d8e11750.png',\n",
    "            'c_00475570-6a3c-4b58-b6d9-b6a8dc8004af.png',\n",
    "            'd_0015272b-c82e-400e-bcba-e70f122be3dd.png',\n",
    "            'e_0023697d-8bfa-40bb-91c5-b8ebf1e98019.png',\n",
    "            'f_00e156dd-52a7-40b0-9ec3-b687490f6d8b.png',\n",
    "            'g_001e0061-84cf-4c6b-b098-1fe92f09b7db.png',\n",
    "            'h_0036ed49-f6cb-4fbf-a428-48799e3e2c8f.png',\n",
    "            'i_016e136e-477b-4135-8c4f-52be1d992ace.png',\n",
    "            'j_004d81df-0c4b-4918-b133-1a9f8ad7be69.png',\n",
    "            'k_0163dcee-8b14-408a-b201-2c99ca3a1f4d.png',\n",
    "            'l_002c5ffa-4971-47d3-9245-e5c30a872544.png',\n",
    "            'm_002d9294-b576-4c3e-88a6-d62b84fb2bc0.png',\n",
    "            'n_00eb1169-ad34-4771-ab6d-be7ab0e9a8a7.png',\n",
    "            'o_00213729-8c05-4535-b1f0-29360ecb8ba5.png',\n",
    "            'p_004aaaa1-e068-4d60-930b-280cc2348368.png',\n",
    "            'q_0096d197-3066-4690-bf49-d72da777d441.png',\n",
    "            'r_0106083b-fc86-4210-a638-985252e361f0.png',\n",
    "            's_00ce5c6f-a321-4af8-94ca-5328ee9cd3ff.png',\n",
    "            't_005ce3a1-3491-44ca-808c-77ff9f12b513.png',\n",
    "            'u_009c735f-b5d0-4d8d-8f89-d13f63ef7fea.png',\n",
    "            'v_00a73d5a-2201-4b39-830d-63d3552555b2.png',\n",
    "            'w_01ad5dfc-7f8f-44c2-b71a-447710b67c4d.png',\n",
    "            'x_00c9133b-e9c6-4c69-88f3-2e7614dba48e.png',\n",
    "            'y_0048aa3f-97df-4dc8-8e54-e26e1d965ac5.png',\n",
    "            'z_018747ad-c708-4db3-877c-d72a1a6718a1.png',\n",
    "            'A_0040f572-8ec8-4ffb-b716-72e8a9ab8cff.png',\n",
    "            'B_00b6f193-9fa2-4559-8dcd-4b1c7a1619d3.png',\n",
    "            'C_001c9a1b-d363-4465-8ea8-391e6bd38515.png',\n",
    "            'D_00862abb-40c1-4393-b024-fba120f78e6b.png',\n",
    "            'E_0083a449-234c-4a07-ae0f-e84ef7169b3b.png',\n",
    "            'F_001fbf90-e965-4ca0-b4d4-51eef67e80b4.png',\n",
    "            'G_006a152d-9057-45df-89b7-fa3a3572aeec.png',\n",
    "            'H_0006a4ad-e594-4e45-86c7-f14c57cc8af7.png',\n",
    "            'I_008305bc-accd-437b-bb2e-f863ca8e2753.png',\n",
    "            'J_0085940a-f2de-4cf8-9f14-f22bf6b8512c.png',\n",
    "            'K_004d4c4d-f7da-445f-ba18-a8281d3ed615.png',\n",
    "            'L_00183ea7-957d-43a1-b869-63196d359829.png',\n",
    "            'M_009b6e47-7c22-4cd8-a297-913d7ecb06ec.png',\n",
    "            'N_005e190e-7946-40c5-ba10-155147717c64.png',\n",
    "            'O_008d876b-0709-4677-89f1-05fa10969b7e.png',\n",
    "            'P_00ec7c2f-2bd1-4db2-83cb-c967e9ed78eb.png',\n",
    "            'Q_004da8c4-e11a-43df-8d5d-d2f78d341c0f.png',\n",
    "            'R_00412e5f-ace1-494b-b9ff-0308f4a22dde.png',\n",
    "            'S_00518229-ea8c-4433-b663-ef4997ba7ff4.png',\n",
    "            'T_000d17de-2f82-453c-a467-f22f08e56bda.png',\n",
    "            'U_00066274-83cb-4bcf-9b3d-7a2e88c82d70.png',\n",
    "            'V_00fde4f2-ad5b-451a-987a-0e1f488b96ab.png',\n",
    "            'W_0027dcff-75c9-4115-adfb-ec4ac2ca45b8.png',\n",
    "            'X_00d3ec0f-21a4-415a-b9df-354810f0f9d7.png',\n",
    "            'Y_006107a7-f996-4c98-8bbf-626534626e3a.png',\n",
    "            'Z_008cf252-2faf-4ec0-ba89-53cffa6a9d65.png'    \n",
    "           ]\n",
    "\n",
    "im_data_list = []\n",
    "for im_fn in im_paths:\n",
    "    im_data =  read_image(osp.join(im_root, im_fn))\n",
    "#     print im_data.shape\n",
    "#     print im_data\n",
    "\n",
    "    im_data_list.append(im_data)\n",
    "\n",
    "im_data_batch = np.array(im_data_list)    \n",
    "print 'input batch shape: ', im_data_batch.shape"
   ]
  },
  {
   "cell_type": "code",
   "execution_count": 8,
   "metadata": {},
   "outputs": [
    {
     "name": "stdout",
     "output_type": "stream",
     "text": [
      "[-35.774044   -46.31912    -47.43007    -74.00457     -0.32524988\n",
      " -62.593513   -23.930973   -38.55609    -26.010826   -65.90489\n",
      "  -9.10024    -35.845703     2.2109694  -37.71652     -1.3931856\n",
      "   1.4116533   13.944871   -18.339458   -11.756675   -43.401974\n",
      "   5.92936    -15.208061    -3.2652514    0.67573434 -51.91795\n",
      " -32.32315      1.2999543    4.474277    -4.9936266   22.25915\n",
      "  -0.38426733  -9.851881     7.335829    18.704292   -27.866753\n",
      "   9.781547    -9.061827     7.5158677  -26.338055   -37.197212\n",
      "  34.11337     29.776836    35.434113    38.25283     10.289043\n",
      " -28.022678    28.182053    15.316484    30.480202    20.285255\n",
      " -11.16857     -1.9267353   -9.417403    28.212193     3.2198155\n",
      "   6.6467605    0.926947   -10.464247    22.72921     28.069904\n",
      "  -1.1813376   29.717     ]\n",
      "[43 61 61 29 61 59 46 59  8 48 17 16 61 17 54 40 61 61 18 33 43 61 48 20\n",
      "  4 20 46 48 16 61 61 61 32 61 60 54 44 43 40 60 40 61 33 46 58 61 61 40\n",
      " 48 59 19 40 48 20 45 43 46 48 43 59 48 61]\n",
      "Predicted chars:  ['H', 'Z', 'Z', 't', 'Z', 'X', 'K', 'X', '8', 'M', 'h', 'g', 'Z', 'h', 'S', 'E', 'Z', 'Z', 'i', 'x', 'H', 'Z', 'M', 'k', '4', 'k', 'K', 'M', 'g', 'Z', 'Z', 'Z', 'w', 'Z', 'Y', 'S', 'I', 'H', 'E', 'Y', 'E', 'Z', 'x', 'K', 'W', 'Z', 'Z', 'E', 'M', 'X', 'j', 'E', 'M', 'k', 'J', 'H', 'K', 'M', 'H', 'X', 'M', 'Z']\n",
      "max prob:  [0.92888147, 0.67466366, 0.9993374, 0.64061767, 0.9999975, 1.0, 0.99999976, 0.99999726, 0.99999774, 0.9997002, 0.99062437, 0.9998747, 1.0, 0.99999976, 0.7484154, 0.9980483, 0.77269506, 0.99880755, 0.9547704, 1.0, 0.7575126, 1.0, 1.0, 1.0, 0.99944514, 0.99977237, 0.99999166, 0.99606115, 0.9664493, 0.9994254, 0.645031, 1.0, 0.99999034, 1.0, 0.7201866, 0.9999994, 0.9990662, 0.9997236, 0.9999193, 0.9999958, 1.0, 0.9989046, 0.87645596, 0.9981668, 0.99985623, 0.9999999, 0.9959841, 1.0, 1.0, 0.99591994, 0.9999794, 1.0, 0.99980384, 0.99718875, 0.713239, 1.0, 0.95767623, 0.9999651, 0.94314116, 1.0, 1.0, 0.9999987]\n"
     ]
    }
   ],
   "source": [
    "feed_dict = {input:im_data_batch.astype(np.float)}\n",
    "\n",
    "prob_rlt, pred_rlt = sess.run([prob, pred_cls], feed_dict)\n",
    "\n",
    "# pred_rlt = sess.run(pred_cls, feed_dict)\n",
    "print prob_rlt[0]\n",
    "print pred_rlt\n",
    "\n",
    "prob_list = []\n",
    "pred_char_list = []\n",
    "for i,idx in enumerate(pred_rlt):\n",
    "    prob_list.append(softmax(prob_rlt[i])[idx])\n",
    "    pred_char_list.append(char_list[idx])\n",
    "\n",
    "print 'Predicted chars: ', pred_char_list\n",
    "print 'max prob: ', prob_list"
   ]
  },
  {
   "cell_type": "code",
   "execution_count": 9,
   "metadata": {},
   "outputs": [
    {
     "data": {
      "text/plain": [
       "0.1"
      ]
     },
     "execution_count": 9,
     "metadata": {},
     "output_type": "execute_result"
    }
   ],
   "source": [
    "var = graph.get_tensor_by_name('convolution-layer-1/truncated_normal_1/stddev:0')\n",
    "sess.run(var)"
   ]
  },
  {
   "cell_type": "code",
   "execution_count": 8,
   "metadata": {},
   "outputs": [
    {
     "name": "stdout",
     "output_type": "stream",
     "text": [
      "\n"
     ]
    }
   ],
   "source": [
    "print graph.get_name_scope()\n",
    "# print graph.get_operations()"
   ]
  },
  {
   "cell_type": "code",
   "execution_count": 10,
   "metadata": {},
   "outputs": [
    {
     "name": "stdout",
     "output_type": "stream",
     "text": [
      "segm_captcha.py\n",
      "---> Process image:  ./test-img/webcode_02.png\n",
      "rescale:  1.25\n",
      "img.shape:  (50, 200)\n",
      "horizontal zero crossings:  [ 33  52  66  94 108 163]\n",
      "zero-cross points:  [ 33  52  66  94 108 163]\n",
      "num of zero-cross points:  6\n",
      "peak widths:  [19 28 55]\n",
      "max peak idx:  2\n",
      "Otsu threshold is:  137\n",
      "horizontal segm points:  [ 33  52  66  94 108 137 137 163]\n",
      "vertical zero crossings for sub regions:  [20 40]\n",
      "---> segm shape (26, 24)\n",
      "vertical zero crossings for sub regions:  [ 4 39]\n",
      "---> segm shape (44, 35)\n",
      "vertical zero crossings for sub regions:  [26]\n",
      "---> segm shape (27, 36)\n",
      "vertical zero crossings for sub regions:  [ 7 41]\n",
      "---> segm shape (44, 33)\n",
      "input batch shape:  (4, 40, 40)\n",
      "[-40.850952    14.033806     9.173605   -23.605268    10.805414\n",
      " -14.876675   -31.807737   -31.451588   -38.322464   -75.59795\n",
      "  -0.86611176  10.81913    -18.72551    -21.381086   -60.786957\n",
      "  19.078596   -20.170832    46.957237    38.091187    13.743644\n",
      "  31.374575    12.895546   -11.685399     1.618989   -84.78506\n",
      " -37.50163    -58.81086      5.9575577  -24.954077    22.19305\n",
      "  -8.438885   -85.45372    -55.1194      51.13536    -59.625313\n",
      "  56.439285    58.338974     3.7468953  -31.88108     -4.1337204\n",
      "  55.060196   -26.85916    -16.232515    -1.6822739   30.558937\n",
      "  -0.74832916  13.126533    44.856853    42.87136     10.668714\n",
      " -50.593723   -31.676497   -42.166008    17.712368   -16.54167\n",
      " -15.030264   -40.37013    -91.386      -37.747986    43.734993\n",
      "  -7.0124893   99.761734  ]\n",
      "[61 43  2 61]\n",
      "--->\n",
      "[61 36 35 40 33]\n",
      "top_0: idx=61, char=Z, logit=99.761734, prob=1.000000\n",
      "top_1: idx=36, char=A, logit=58.338974, prob=0.000000\n",
      "top_2: idx=35, char=z, logit=56.439285, prob=0.000000\n",
      "top_3: idx=40, char=E, logit=55.060196, prob=0.000000\n",
      "top_4: idx=33, char=x, logit=51.135361, prob=0.000000\n",
      "--->\n",
      "[43 37 48 10 15]\n",
      "top_0: idx=43, char=H, logit=48.607449, prob=0.996410\n",
      "top_1: idx=37, char=B, logit=42.662224, prob=0.002609\n",
      "top_2: idx=48, char=M, logit=41.491619, prob=0.000809\n",
      "top_3: idx=10, char=a, logit=39.941650, prob=0.000172\n",
      "top_4: idx=15, char=f, logit=27.905819, prob=0.000000\n",
      "--->\n",
      "[ 2  1 10 19 21]\n",
      "top_0: idx=2, char=2, logit=95.738388, prob=0.999867\n",
      "top_1: idx=1, char=1, logit=86.814995, prob=0.000133\n",
      "top_2: idx=10, char=a, logit=67.644699, prob=0.000000\n",
      "top_3: idx=19, char=j, logit=53.877335, prob=0.000000\n",
      "top_4: idx=21, char=l, logit=53.814827, prob=0.000000\n",
      "--->\n",
      "[61  4 36 42 53]\n",
      "top_0: idx=61, char=Z, logit=64.875168, prob=1.000000\n",
      "top_1: idx=4, char=4, logit=50.233032, prob=0.000000\n",
      "top_2: idx=36, char=A, logit=45.607841, prob=0.000000\n",
      "top_3: idx=42, char=G, logit=41.211628, prob=0.000000\n",
      "top_4: idx=53, char=R, logit=40.652740, prob=0.000000\n",
      "Predicted chars:  OrderedDict([('Z', 1.0), ('A', 1.0240564e-18), ('z', 1.532144e-19), ('E', 3.8580573e-20), ('x', 7.617885e-22)])\n",
      "Predicted chars:  OrderedDict([('H', 0.9964101), ('B', 0.0026089142), ('M', 0.0008092312), ('a', 0.00017176307), ('f', 1.0182035e-09)])\n",
      "Predicted chars:  OrderedDict([('2', 0.9998667), ('1', 0.00013321762), ('a', 6.295178e-13), ('j', 6.605681e-19), ('l', 6.2054154e-19)])\n",
      "Predicted chars:  OrderedDict([('Z', 0.9999995), ('4', 4.3752323e-07), ('A', 4.288508e-09), ('G', 5.285122e-11), ('R', 3.02227e-11)])\n"
     ]
    },
    {
     "data": {
      "text/plain": [
       "<matplotlib.image.AxesImage at 0x7ff820058090>"
      ]
     },
     "execution_count": 10,
     "metadata": {},
     "output_type": "execute_result"
    },
    {
     "data": {
      "image/png": "[encoded data removed]",
      "text/plain": [
       "<Figure size 432x288 with 1 Axes>"
      ]
     },
     "metadata": {},
     "output_type": "display_data"
    },
    {
     "data": {
      "image/png": "[encoded data removed]",
      "text/plain": [
       "<Figure size 432x288 with 1 Axes>"
      ]
     },
     "metadata": {},
     "output_type": "display_data"
    },
    {
     "data": {
      "image/png": "[encoded data removed]",
      "text/plain": [
       "<Figure size 432x288 with 1 Axes>"
      ]
     },
     "metadata": {},
     "output_type": "display_data"
    },
    {
     "data": {
      "image/png": "[encoded data removed]",
      "text/plain": [
       "<Figure size 432x288 with 1 Axes>"
      ]
     },
     "metadata": {},
     "output_type": "display_data"
    },
    {
     "data": {
      "image/png": "[encoded data removed]",
      "text/plain": [
       "<Figure size 432x288 with 1 Axes>"
      ]
     },
     "metadata": {},
     "output_type": "display_data"
    }
   ],
   "source": [
    "import segm_captcha\n",
    "from segm_captcha import read_and_segment, resize_regions\n",
    "import cv2\n",
    "from collections import OrderedDict\n",
    "\n",
    "%matplotlib inline\n",
    "\n",
    "import matplotlib\n",
    "# import numpy as np\n",
    "import matplotlib.pyplot as plt\n",
    "\n",
    "\n",
    "print segm_captcha.__file__\n",
    "\n",
    "\n",
    "def crack_captcha(captcha_fn, top_n=5):\n",
    "    seg_regions = read_and_segment(captcha_fn, 1.25)\n",
    "    resized_regions = resize_regions(seg_regions)\n",
    "    \n",
    "    for i, rregi in enumerate(resized_regions):\n",
    "        save_fn = captcha_fn + '_' + str(i) + '.png'\n",
    "        cv2.imwrite(save_fn, rregi)\n",
    "\n",
    "    im_data_batch = np.array(resized_regions)\n",
    "    print 'input batch shape: ', im_data_batch.shape\n",
    "    \n",
    "    for im in im_data_batch:\n",
    "        plt.figure()\n",
    "        plt.imshow(im)\n",
    "        \n",
    "\n",
    "    feed_dict = {input:im_data_batch.astype(np.float)}\n",
    "    prob_rlt, pred_rlt = sess.run([prob, pred_cls], feed_dict)\n",
    "\n",
    "    # pred_rlt = sess.run(pred_cls, feed_dict)\n",
    "    print prob_rlt[0]\n",
    "    print pred_rlt  \n",
    "\n",
    "    pred_rlt_list =[]\n",
    "\n",
    "    for i,idx in enumerate(pred_rlt):\n",
    "        print '--->'\n",
    "        pred_dict = OrderedDict()\n",
    "        probs = softmax(prob_rlt[i])\n",
    "        \n",
    "        top_n_idx = np.argsort(-prob_rlt[i])[0:top_n]\n",
    "        print top_n_idx\n",
    "        for ii, iidx in enumerate(top_n_idx):\n",
    "            iidx = int(iidx)\n",
    "            print 'top_%d: idx=%d, char=%s, logit=%f, prob=%f' % (ii, iidx, char_list[iidx], prob_rlt[i][iidx], probs[iidx])\n",
    "            pred_dict[char_list[iidx]] = probs[iidx]\n",
    "            \n",
    "        pred_rlt_list.append(pred_dict)\n",
    "\n",
    "    return pred_rlt_list\n",
    "\n",
    "captcha_fn = r'./test-img/webcode_02.png'\n",
    "\n",
    "pred_rlt_list = crack_captcha(captcha_fn)\n",
    "pred_chars = ''\n",
    "for rlt in pred_rlt_list:\n",
    "    print 'Predicted chars: ', rlt\n",
    "#     print rlt.keys()\n",
    "    pred_chars += rlt.keys()[0]\n",
    "    \n",
    "im = cv2.imread(captcha_fn)\n",
    "\n",
    "plt.figure()\n",
    "plt.title('Prediction: ' + pred_chars)\n",
    "plt.imshow(im)"
   ]
  },
  {
   "cell_type": "code",
   "execution_count": null,
   "metadata": {},
   "outputs": [],
   "source": []
  },
  {
   "cell_type": "code",
   "execution_count": 10,
   "metadata": {},
   "outputs": [
    {
     "data": {
      "text/plain": [
       "OrderedDict([('Z', 1.0),\n",
       "             ('A', 1.0240447e-18),\n",
       "             ('z', 1.5323719e-19),\n",
       "             ('E', 3.857881e-20),\n",
       "             ('x', 7.6176524e-22)])"
      ]
     },
     "execution_count": 10,
     "metadata": {},
     "output_type": "execute_result"
    }
   ],
   "source": [
    "pred_rlt_list[0]\n"
   ]
  },
  {
   "cell_type": "code",
   "execution_count": 95,
   "metadata": {},
   "outputs": [
    {
     "data": {
      "text/plain": [
       "u'/workspace/mnt/group/face/zhaoyafei/captcha-tensorflow/log/cnn1-run-20181030_200154'"
      ]
     },
     "execution_count": 95,
     "metadata": {},
     "output_type": "execute_result"
    }
   ],
   "source": [
    "pwd"
   ]
  },
  {
   "cell_type": "code",
   "execution_count": null,
   "metadata": {},
   "outputs": [],
   "source": []
  }
 ],
 "metadata": {
  "kernelspec": {
   "display_name": "Python 2",
   "language": "python",
   "name": "python2"
  },
  "language_info": {
   "codemirror_mode": {
    "name": "ipython",
    "version": 2
   },
   "file_extension": ".py",
   "mimetype": "text/x-python",
   "name": "python",
   "nbconvert_exporter": "python",
   "pygments_lexer": "ipython2",
   "version": "2.7.12"
  }
 },
 "nbformat": 4,
 "nbformat_minor": 2
}
